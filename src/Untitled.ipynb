{
 "cells": [
  {
   "cell_type": "code",
   "execution_count": 1,
   "metadata": {},
   "outputs": [],
   "source": [
    "import torch"
   ]
  },
  {
   "cell_type": "code",
   "execution_count": 3,
   "metadata": {},
   "outputs": [
    {
     "name": "stdout",
     "output_type": "stream",
     "text": [
      "absl-py==0.10.0\n",
      "aiohttp==3.6.2\n",
      "appnope==0.1.0\n",
      "argon2-cffi==20.1.0\n",
      "astunparse==1.6.3\n",
      "async-generator==1.10\n",
      "async-timeout==3.0.1\n",
      "attrs==20.2.0\n",
      "backcall==0.2.0\n",
      "bleach==3.2.1\n",
      "cachetools==4.1.1\n",
      "certifi==2020.6.20\n",
      "cffi==1.14.3\n",
      "chardet==3.0.4\n",
      "decorator==4.4.2\n",
      "defusedxml==0.6.0\n",
      "entrypoints==0.3\n",
      "future==0.18.2\n",
      "gast==0.3.3\n",
      "google-auth==1.22.0\n",
      "google-auth-oauthlib==0.4.1\n",
      "google-pasta==0.2.0\n",
      "grpcio==1.32.0\n",
      "h5py==2.10.0\n",
      "idna==2.10\n",
      "ipykernel==5.3.4\n",
      "ipython==7.18.1\n",
      "ipython-genutils==0.2.0\n",
      "jedi==0.17.2\n",
      "Jinja2==2.11.2\n",
      "json5==0.9.5\n",
      "jsonschema==3.2.0\n",
      "jupyter-client==6.1.7\n",
      "jupyter-core==4.6.3\n",
      "jupyterlab==2.2.8\n",
      "jupyterlab-pygments==0.1.2\n",
      "jupyterlab-server==1.2.0\n",
      "Keras-Preprocessing==1.1.2\n",
      "Markdown==3.2.2\n",
      "MarkupSafe==1.1.1\n",
      "mistune==0.8.4\n",
      "multidict==4.7.6\n",
      "nbclient==0.5.0\n",
      "nbconvert==6.0.7\n",
      "nbformat==5.0.7\n",
      "nest-asyncio==1.4.1\n",
      "notebook==6.1.4\n",
      "numpy==1.18.5\n",
      "oauthlib==3.1.0\n",
      "opt-einsum==3.3.0\n",
      "packaging==20.4\n",
      "pandocfilters==1.4.2\n",
      "parso==0.7.1\n",
      "pexpect==4.8.0\n",
      "pickleshare==0.7.5\n",
      "Pillow==7.2.0\n",
      "prometheus-client==0.8.0\n",
      "prompt-toolkit==3.0.7\n",
      "protobuf==3.13.0\n",
      "ptyprocess==0.6.0\n",
      "pyasn1==0.4.8\n",
      "pyasn1-modules==0.2.8\n",
      "pycparser==2.20\n",
      "Pygments==2.7.1\n",
      "pyparsing==2.4.7\n",
      "pyrsistent==0.17.3\n",
      "python-dateutil==2.8.1\n",
      "pyzmq==19.0.2\n",
      "requests==2.24.0\n",
      "requests-oauthlib==1.3.0\n",
      "rsa==4.6\n",
      "Send2Trash==1.5.0\n",
      "six==1.15.0\n",
      "tensorboard==2.3.0\n",
      "tensorboard-plugin-wit==1.7.0\n",
      "tensorflow==2.3.1\n",
      "tensorflow-estimator==2.3.0\n",
      "termcolor==1.1.0\n",
      "terminado==0.9.1\n",
      "testpath==0.4.4\n",
      "torch==1.6.0\n",
      "torchvision==0.7.0\n",
      "tornado==6.0.4\n",
      "traitlets==5.0.4\n",
      "urllib3==1.25.10\n",
      "wcwidth==0.2.5\n",
      "webencodings==0.5.1\n",
      "Werkzeug==1.0.1\n",
      "wrapt==1.12.1\n",
      "yarl==1.6.0\n"
     ]
    }
   ],
   "source": [
    "!pip freeze"
   ]
  },
  {
   "cell_type": "code",
   "execution_count": null,
   "metadata": {},
   "outputs": [],
   "source": []
  }
 ],
 "metadata": {
  "kernelspec": {
   "display_name": "Python 3",
   "language": "python",
   "name": "python3"
  },
  "language_info": {
   "codemirror_mode": {
    "name": "ipython",
    "version": 3
   },
   "file_extension": ".py",
   "mimetype": "text/x-python",
   "name": "python",
   "nbconvert_exporter": "python",
   "pygments_lexer": "ipython3",
   "version": "3.8.2"
  }
 },
 "nbformat": 4,
 "nbformat_minor": 4
}
